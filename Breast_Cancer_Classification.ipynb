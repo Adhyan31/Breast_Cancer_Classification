{
  "nbformat": 4,
  "nbformat_minor": 0,
  "metadata": {
    "colab": {
      "name": "Breast_Cancer_Classification",
      "provenance": [],
      "collapsed_sections": [],
      "toc_visible": true
    },
    "kernelspec": {
      "name": "python3",
      "display_name": "Python 3"
    }
  },
  "cells": [
    {
      "cell_type": "code",
      "metadata": {
        "id": "D4b029YC7C-y",
        "colab_type": "code",
        "colab": {}
      },
      "source": [
        "#importing all the required libraries\n",
        "\n",
        "import pandas as pd                                 \n",
        "from sklearn.model_selection import train_test_split             \n",
        "from sklearn.linear_model import LogisticRegression  \n",
        "from sklearn.metrics import confusion_matrix  \n",
        "from sklearn.model_selection import cross_val_score         "
      ],
      "execution_count": 1,
      "outputs": []
    },
    {
      "cell_type": "code",
      "metadata": {
        "id": "4POXlqg47Ny3",
        "colab_type": "code",
        "colab": {}
      },
      "source": [
        "#Loding the \"breast_cancer.csv\" dataset in a variable named as breast_cancer\n",
        "breast_cancer = pd.read_csv('breast_cancer.csv')\n",
        "\n",
        "#Storing the independent features or variables of the dataset in variable X\n",
        "X = breast_cancer.iloc[:, 1:-1].values\n",
        "\n",
        "#storing the dependent variable of the dataset in variable y\n",
        "y = breast_cancer.iloc[:, -1].values"
      ],
      "execution_count": 2,
      "outputs": []
    },
    {
      "cell_type": "code",
      "metadata": {
        "id": "WOQwyng57dp2",
        "colab_type": "code",
        "colab": {}
      },
      "source": [
        "#Splitting the independent variables and the dependent variable into the training set and test set\n",
        "X_train, X_test, y_train, y_test = train_test_split(X, y, test_size = 0.2, random_state = 0)"
      ],
      "execution_count": 3,
      "outputs": []
    },
    {
      "cell_type": "code",
      "metadata": {
        "id": "9V-LgiUa78lX",
        "colab_type": "code",
        "colab": {
          "base_uri": "https://localhost:8080/",
          "height": 102
        },
        "outputId": "23e34315-ad9c-44d8-8ab6-94c55ea2f854"
      },
      "source": [
        "#Training the Logistic Regression model on X_train and y_train\n",
        "classifier = LogisticRegression(random_state = 0)\n",
        "\n",
        "classifier.fit(X_train, y_train)"
      ],
      "execution_count": 4,
      "outputs": [
        {
          "output_type": "execute_result",
          "data": {
            "text/plain": [
              "LogisticRegression(C=1.0, class_weight=None, dual=False, fit_intercept=True,\n",
              "                   intercept_scaling=1, l1_ratio=None, max_iter=100,\n",
              "                   multi_class='auto', n_jobs=None, penalty='l2',\n",
              "                   random_state=0, solver='lbfgs', tol=0.0001, verbose=0,\n",
              "                   warm_start=False)"
            ]
          },
          "metadata": {
            "tags": []
          },
          "execution_count": 4
        }
      ]
    },
    {
      "cell_type": "code",
      "metadata": {
        "id": "1B4zQvOq8M7H",
        "colab_type": "code",
        "colab": {}
      },
      "source": [
        "#Predicting the result using the test set, X_test \n",
        "y_pred = classifier.predict(X_test)"
      ],
      "execution_count": 5,
      "outputs": []
    },
    {
      "cell_type": "code",
      "metadata": {
        "id": "5BN8qx6e8aNZ",
        "colab_type": "code",
        "colab": {
          "base_uri": "https://localhost:8080/",
          "height": 51
        },
        "outputId": "37697493-ae29-4c8c-b906-bfd7939e31d4"
      },
      "source": [
        "#Making the confusion matrix to get the true positives, true negatives, false positives and false negatives\n",
        "cm = confusion_matrix(y_test, y_pred)\n",
        "\n",
        "print(cm)"
      ],
      "execution_count": 6,
      "outputs": [
        {
          "output_type": "stream",
          "text": [
            "[[84  3]\n",
            " [ 3 47]]\n"
          ],
          "name": "stdout"
        }
      ]
    },
    {
      "cell_type": "code",
      "metadata": {
        "id": "waJZi8fw8m_2",
        "colab_type": "code",
        "colab": {
          "base_uri": "https://localhost:8080/",
          "height": 51
        },
        "outputId": "3074b014-51c1-4cea-aef5-04b19b769351"
      },
      "source": [
        "#Implementing K-Fold Cross validation to check the accuracy and standard deviation\n",
        "accuracies = cross_val_score(estimator = classifier, X = X_train, y = y_train, cv = 10)\n",
        "\n",
        "print(\"Accuracy: {:.2f} %\".format(accuracies.mean()*100))\n",
        "print(\"Standard Deviation: {:.2f} %\".format(accuracies.std()*100))"
      ],
      "execution_count": 7,
      "outputs": [
        {
          "output_type": "stream",
          "text": [
            "Accuracy: 96.70 %\n",
            "Standard Deviation: 1.97 %\n"
          ],
          "name": "stdout"
        }
      ]
    }
  ]
}